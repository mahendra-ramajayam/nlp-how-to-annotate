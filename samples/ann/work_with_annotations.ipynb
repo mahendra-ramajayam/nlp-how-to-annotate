{
 "cells": [
  {
   "cell_type": "code",
   "execution_count": 10,
   "metadata": {},
   "outputs": [],
   "source": [
    "import glob\n",
    "import json"
   ]
  },
  {
   "cell_type": "code",
   "execution_count": 5,
   "metadata": {},
   "outputs": [],
   "source": [
    "def parse_annotation(text):\n",
    "    entries = text.split(\"\\n\")\n",
    "    entries = [entry for entry in entries if entry]\n",
    "    result = []\n",
    "    for entry in entries:\n",
    "        [_, label, text] = entry.split(\"\\t\")\n",
    "        [type, start, end] = label.split(\" \")\n",
    "        result.append({ 'type': type, 'start': int(start), 'end': int(end), 'text': text})\n",
    "    return result"
   ]
  },
  {
   "cell_type": "code",
   "execution_count": 13,
   "metadata": {},
   "outputs": [
    {
     "name": "stdout",
     "output_type": "stream",
     "text": [
      "Annotation #0 (data/annotator1/doc1.txt.ann):\n",
      "[\n",
      "  {\n",
      "    \"type\": \"LOC\",\n",
      "    \"start\": 0,\n",
      "    \"end\": 14,\n",
      "    \"text\": \"SALT LAKE CITY\"\n",
      "  },\n",
      "  {\n",
      "    \"type\": \"ORG\",\n",
      "    \"start\": 17,\n",
      "    \"end\": 23,\n",
      "    \"text\": \"Disney\"\n",
      "  },\n",
      "  {\n",
      "    \"type\": \"ORG\",\n",
      "    \"start\": 51,\n",
      "    \"end\": 67,\n",
      "    \"text\": \"20th Century Fox\"\n",
      "  },\n",
      "  {\n",
      "    \"type\": \"LOC\",\n",
      "    \"start\": 126,\n",
      "    \"end\": 151,\n",
      "    \"text\": \"Marvel Cinematic Universe\"\n",
      "  }\n",
      "]\n",
      "Annotation #1 (data/annotator1/doc2.txt.ann):\n",
      "[\n",
      "  {\n",
      "    \"type\": \"LOC\",\n",
      "    \"start\": 0,\n",
      "    \"end\": 6,\n",
      "    \"text\": \"Brazil\"\n",
      "  },\n",
      "  {\n",
      "    \"type\": \"ORG\",\n",
      "    \"start\": 85,\n",
      "    \"end\": 94,\n",
      "    \"text\": \"Bloomberg\"\n",
      "  },\n",
      "  {\n",
      "    \"type\": \"ORG\",\n",
      "    \"start\": 110,\n",
      "    \"end\": 119,\n",
      "    \"text\": \"Bloomberg\"\n",
      "  },\n",
      "  {\n",
      "    \"type\": \"ORG\",\n",
      "    \"start\": 125,\n",
      "    \"end\": 131,\n",
      "    \"text\": \"Disney\"\n",
      "  },\n",
      "  {\n",
      "    \"type\": \"ORG\",\n",
      "    \"start\": 158,\n",
      "    \"end\": 168,\n",
      "    \"text\": \"Fox Sports\"\n",
      "  }\n",
      "]\n"
     ]
    }
   ],
   "source": [
    "for i, file in enumerate(glob.glob('data/**/*.txt.ann')):\n",
    "    with open(file) as ann_file:\n",
    "        anns = parse_annotation(ann_file.read())\n",
    "        print(f\"Annotation #{i} ({file}):\")\n",
    "        print(json.dumps(anns, indent=2))\n",
    "        "
   ]
  }
 ],
 "metadata": {
  "kernelspec": {
   "display_name": "Python 3",
   "language": "python",
   "name": "python3"
  },
  "language_info": {
   "codemirror_mode": {
    "name": "ipython",
    "version": 3
   },
   "file_extension": ".py",
   "mimetype": "text/x-python",
   "name": "python",
   "nbconvert_exporter": "python",
   "pygments_lexer": "ipython3",
   "version": "3.7.2"
  }
 },
 "nbformat": 4,
 "nbformat_minor": 2
}
