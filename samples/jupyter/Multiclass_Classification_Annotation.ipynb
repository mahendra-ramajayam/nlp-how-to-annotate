{
 "cells": [
  {
   "cell_type": "code",
   "execution_count": 1,
   "metadata": {},
   "outputs": [],
   "source": [
    "import pandas as pd"
   ]
  },
  {
   "cell_type": "code",
   "execution_count": 2,
   "metadata": {},
   "outputs": [],
   "source": [
    "docs = [\n",
    "    'Tiger Teeth – WALK THE MOON',\n",
    "    'Wolf Like Me – TV On The Radio',\n",
    "    'Duck – Zeedym',\n",
    "    'Lone Wolf and Cub – Thundercat'\n",
    "]"
   ]
  },
  {
   "cell_type": "code",
   "execution_count": 3,
   "metadata": {},
   "outputs": [],
   "source": [
    "classes = ['about_tiger', 'about_wolf', 'about_duck']"
   ]
  },
  {
   "cell_type": "markdown",
   "metadata": {},
   "source": [
    "# Use input"
   ]
  },
  {
   "cell_type": "markdown",
   "metadata": {},
   "source": [
    "The crudest solution – show user docs one by one and at each step ask for label for a doc"
   ]
  },
  {
   "cell_type": "code",
   "execution_count": 4,
   "metadata": {},
   "outputs": [],
   "source": [
    "from IPython.display import clear_output\n",
    "import re"
   ]
  },
  {
   "cell_type": "code",
   "execution_count": 5,
   "metadata": {},
   "outputs": [],
   "source": [
    "def get_label(doc, labels, multi=False):\n",
    "    clear_output()\n",
    "    mapper = {str(i): label for i, label in enumerate(labels)}\n",
    "    legend = \"\\n\".join([f'{index}\\t{label}' for index, label in mapper.items()])\n",
    "    if multi:\n",
    "        legend += \"\\nInput comma-separated list for multiple labels\"\n",
    "    user_input = input(f'Select class for \"{doc}\"\\n{legend}\\n({\"/\".join(mapper.keys())})?')\n",
    "    response = user_input.strip()\n",
    "    label = ''\n",
    "    if multi:\n",
    "        keys = re.split(r\",\\s*\", response)\n",
    "        label = [mapper[key] for key in keys]\n",
    "    else:\n",
    "        key = response\n",
    "        label = mapper.get(key)\n",
    "    if label:\n",
    "        return label\n",
    "    # loop if got something wrong\n",
    "    return get_label(doc, labels, multi)"
   ]
  },
  {
   "cell_type": "code",
   "execution_count": 6,
   "metadata": {},
   "outputs": [
    {
     "name": "stdout",
     "output_type": "stream",
     "text": [
      "Select class for \"Lone Wolf and Cub – Thundercat\"\n",
      "0\tabout_tiger\n",
      "1\tabout_wolf\n",
      "2\tabout_duck\n",
      "(0/1/2)?1\n"
     ]
    }
   ],
   "source": [
    "labels = [get_label(doc, classes) for doc in docs]"
   ]
  },
  {
   "cell_type": "code",
   "execution_count": 7,
   "metadata": {},
   "outputs": [
    {
     "data": {
      "text/html": [
       "<div>\n",
       "<style scoped>\n",
       "    .dataframe tbody tr th:only-of-type {\n",
       "        vertical-align: middle;\n",
       "    }\n",
       "\n",
       "    .dataframe tbody tr th {\n",
       "        vertical-align: top;\n",
       "    }\n",
       "\n",
       "    .dataframe thead th {\n",
       "        text-align: right;\n",
       "    }\n",
       "</style>\n",
       "<table border=\"1\" class=\"dataframe\">\n",
       "  <thead>\n",
       "    <tr style=\"text-align: right;\">\n",
       "      <th></th>\n",
       "      <th>docs</th>\n",
       "      <th>labels</th>\n",
       "    </tr>\n",
       "  </thead>\n",
       "  <tbody>\n",
       "    <tr>\n",
       "      <th>0</th>\n",
       "      <td>Tiger Teeth – WALK THE MOON</td>\n",
       "      <td>about_tiger</td>\n",
       "    </tr>\n",
       "    <tr>\n",
       "      <th>1</th>\n",
       "      <td>Wolf Like Me – TV On The Radio</td>\n",
       "      <td>about_wolf</td>\n",
       "    </tr>\n",
       "    <tr>\n",
       "      <th>2</th>\n",
       "      <td>Duck – Zeedym</td>\n",
       "      <td>about_duck</td>\n",
       "    </tr>\n",
       "    <tr>\n",
       "      <th>3</th>\n",
       "      <td>Lone Wolf and Cub – Thundercat</td>\n",
       "      <td>about_wolf</td>\n",
       "    </tr>\n",
       "  </tbody>\n",
       "</table>\n",
       "</div>"
      ],
      "text/plain": [
       "                             docs       labels\n",
       "0     Tiger Teeth – WALK THE MOON  about_tiger\n",
       "1  Wolf Like Me – TV On The Radio   about_wolf\n",
       "2                   Duck – Zeedym   about_duck\n",
       "3  Lone Wolf and Cub – Thundercat   about_wolf"
      ]
     },
     "execution_count": 7,
     "metadata": {},
     "output_type": "execute_result"
    }
   ],
   "source": [
    "pd.DataFrame(list(zip(docs, labels)), columns=['docs', 'labels'])"
   ]
  },
  {
   "cell_type": "code",
   "execution_count": 8,
   "metadata": {},
   "outputs": [
    {
     "name": "stdout",
     "output_type": "stream",
     "text": [
      "Select class for \"Lone Wolf and Cub – Thundercat\"\n",
      "0\tabout_tiger\n",
      "1\tabout_wolf\n",
      "2\tabout_duck\n",
      "Input comma-separated list for multiple labels\n",
      "(0/1/2)?0,1\n"
     ]
    }
   ],
   "source": [
    "labels = [get_label(doc, classes, multi=True) for doc in docs]"
   ]
  },
  {
   "cell_type": "code",
   "execution_count": 9,
   "metadata": {},
   "outputs": [
    {
     "data": {
      "text/html": [
       "<div>\n",
       "<style scoped>\n",
       "    .dataframe tbody tr th:only-of-type {\n",
       "        vertical-align: middle;\n",
       "    }\n",
       "\n",
       "    .dataframe tbody tr th {\n",
       "        vertical-align: top;\n",
       "    }\n",
       "\n",
       "    .dataframe thead th {\n",
       "        text-align: right;\n",
       "    }\n",
       "</style>\n",
       "<table border=\"1\" class=\"dataframe\">\n",
       "  <thead>\n",
       "    <tr style=\"text-align: right;\">\n",
       "      <th></th>\n",
       "      <th>docs</th>\n",
       "      <th>labels</th>\n",
       "    </tr>\n",
       "  </thead>\n",
       "  <tbody>\n",
       "    <tr>\n",
       "      <th>0</th>\n",
       "      <td>Tiger Teeth – WALK THE MOON</td>\n",
       "      <td>[about_tiger, about_wolf]</td>\n",
       "    </tr>\n",
       "    <tr>\n",
       "      <th>1</th>\n",
       "      <td>Wolf Like Me – TV On The Radio</td>\n",
       "      <td>[about_tiger, about_duck]</td>\n",
       "    </tr>\n",
       "    <tr>\n",
       "      <th>2</th>\n",
       "      <td>Duck – Zeedym</td>\n",
       "      <td>[about_duck]</td>\n",
       "    </tr>\n",
       "    <tr>\n",
       "      <th>3</th>\n",
       "      <td>Lone Wolf and Cub – Thundercat</td>\n",
       "      <td>[about_tiger, about_wolf]</td>\n",
       "    </tr>\n",
       "  </tbody>\n",
       "</table>\n",
       "</div>"
      ],
      "text/plain": [
       "                             docs                     labels\n",
       "0     Tiger Teeth – WALK THE MOON  [about_tiger, about_wolf]\n",
       "1  Wolf Like Me – TV On The Radio  [about_tiger, about_duck]\n",
       "2                   Duck – Zeedym               [about_duck]\n",
       "3  Lone Wolf and Cub – Thundercat  [about_tiger, about_wolf]"
      ]
     },
     "execution_count": 9,
     "metadata": {},
     "output_type": "execute_result"
    }
   ],
   "source": [
    "pd.DataFrame(list(zip(docs, labels)), columns=['docs', 'labels'])"
   ]
  },
  {
   "cell_type": "markdown",
   "metadata": {},
   "source": [
    "# Use ipython widgets"
   ]
  },
  {
   "cell_type": "markdown",
   "metadata": {},
   "source": [
    "Something similar to usual spreadsheet software, where we have each row represent the doc and control next to it to select one or multiple classes"
   ]
  },
  {
   "cell_type": "code",
   "execution_count": 10,
   "metadata": {},
   "outputs": [],
   "source": [
    "import pandas as pd\n",
    "import ipywidgets as widgets\n",
    "import time\n",
    "from IPython.display import display\n",
    "from IPython.display import display_html, clear_output"
   ]
  },
  {
   "cell_type": "code",
   "execution_count": 11,
   "metadata": {},
   "outputs": [],
   "source": [
    "class CheckBoxGroup:\n",
    "    def __init__(self, options):\n",
    "        self.value_mapper = {\n",
    "            label: widgets.Checkbox(\n",
    "                value=False,\n",
    "                description=label,\n",
    "                disabled=False) for label in options\n",
    "        }\n",
    "        self.elements = list(self.value_mapper.values())\n",
    "\n",
    "    @property\n",
    "    def value(self):\n",
    "        return [label for label, element in self.value_mapper.items() if element.value]\n",
    "    \n",
    "    def render(self):\n",
    "        return self.elements\n",
    "\n",
    "class RadioButtonsWrapper:\n",
    "    def __init__(self, options):\n",
    "        self.elements = widgets.RadioButtons(\n",
    "            options=options,\n",
    "            disabled=False\n",
    "        )\n",
    "    @property\n",
    "    def value(self):\n",
    "        return self.elements.value\n",
    "\n",
    "    def render(self):\n",
    "        return [self.elements]\n",
    "\n",
    "\n",
    "        \n",
    "def display_docs(docs, labels, multi=False):\n",
    "    rows = []\n",
    "    value_holders = []\n",
    "    for i, doc in enumerate(docs):\n",
    "        label = widgets.Label(doc)\n",
    "        element = CheckBoxGroup(labels) if multi else RadioButtonsWrapper(labels)\n",
    "        value_holders.append(element)\n",
    "        row = widgets.HBox([label, *element.render()])\n",
    "        row.layout.display = 'flex'\n",
    "        label.layout.flex = '1 0 100px'\n",
    "        for element in element.render():\n",
    "            element.layout.flex = '0 0 100px'\n",
    "        rows.append(row)\n",
    "    \n",
    "    table = widgets.VBox(rows)\n",
    "    display(table)\n",
    "    \n",
    "    def get_response():\n",
    "        return pd.DataFrame(list(zip(docs, [c.value for c in value_holders])), columns=['docs', 'labels'])\n",
    "    return get_response"
   ]
  },
  {
   "cell_type": "code",
   "execution_count": 12,
   "metadata": {},
   "outputs": [
    {
     "data": {
      "application/vnd.jupyter.widget-view+json": {
       "model_id": "55d8dbba3d5e417784333500c759df7c",
       "version_major": 2,
       "version_minor": 0
      },
      "text/plain": [
       "VBox(children=(HBox(children=(Label(value='Tiger Teeth – WALK THE MOON', layout=Layout(flex='1 0 100px')), Rad…"
      ]
     },
     "metadata": {},
     "output_type": "display_data"
    }
   ],
   "source": [
    "get_response = display_docs(docs, classes)"
   ]
  },
  {
   "cell_type": "code",
   "execution_count": 13,
   "metadata": {},
   "outputs": [
    {
     "data": {
      "text/html": [
       "<div>\n",
       "<style scoped>\n",
       "    .dataframe tbody tr th:only-of-type {\n",
       "        vertical-align: middle;\n",
       "    }\n",
       "\n",
       "    .dataframe tbody tr th {\n",
       "        vertical-align: top;\n",
       "    }\n",
       "\n",
       "    .dataframe thead th {\n",
       "        text-align: right;\n",
       "    }\n",
       "</style>\n",
       "<table border=\"1\" class=\"dataframe\">\n",
       "  <thead>\n",
       "    <tr style=\"text-align: right;\">\n",
       "      <th></th>\n",
       "      <th>docs</th>\n",
       "      <th>labels</th>\n",
       "    </tr>\n",
       "  </thead>\n",
       "  <tbody>\n",
       "    <tr>\n",
       "      <th>0</th>\n",
       "      <td>Tiger Teeth – WALK THE MOON</td>\n",
       "      <td>about_tiger</td>\n",
       "    </tr>\n",
       "    <tr>\n",
       "      <th>1</th>\n",
       "      <td>Wolf Like Me – TV On The Radio</td>\n",
       "      <td>about_tiger</td>\n",
       "    </tr>\n",
       "    <tr>\n",
       "      <th>2</th>\n",
       "      <td>Duck – Zeedym</td>\n",
       "      <td>about_duck</td>\n",
       "    </tr>\n",
       "    <tr>\n",
       "      <th>3</th>\n",
       "      <td>Lone Wolf and Cub – Thundercat</td>\n",
       "      <td>about_wolf</td>\n",
       "    </tr>\n",
       "  </tbody>\n",
       "</table>\n",
       "</div>"
      ],
      "text/plain": [
       "                             docs       labels\n",
       "0     Tiger Teeth – WALK THE MOON  about_tiger\n",
       "1  Wolf Like Me – TV On The Radio  about_tiger\n",
       "2                   Duck – Zeedym   about_duck\n",
       "3  Lone Wolf and Cub – Thundercat   about_wolf"
      ]
     },
     "execution_count": 13,
     "metadata": {},
     "output_type": "execute_result"
    }
   ],
   "source": [
    "get_response()"
   ]
  },
  {
   "cell_type": "code",
   "execution_count": 14,
   "metadata": {},
   "outputs": [
    {
     "data": {
      "application/vnd.jupyter.widget-view+json": {
       "model_id": "e23ccb3681a844d9a246f706754dff63",
       "version_major": 2,
       "version_minor": 0
      },
      "text/plain": [
       "VBox(children=(HBox(children=(Label(value='Tiger Teeth – WALK THE MOON', layout=Layout(flex='1 0 100px')), Che…"
      ]
     },
     "metadata": {},
     "output_type": "display_data"
    }
   ],
   "source": [
    "get_response = display_docs(docs, classes, multi=True)"
   ]
  },
  {
   "cell_type": "code",
   "execution_count": 15,
   "metadata": {},
   "outputs": [
    {
     "data": {
      "text/html": [
       "<div>\n",
       "<style scoped>\n",
       "    .dataframe tbody tr th:only-of-type {\n",
       "        vertical-align: middle;\n",
       "    }\n",
       "\n",
       "    .dataframe tbody tr th {\n",
       "        vertical-align: top;\n",
       "    }\n",
       "\n",
       "    .dataframe thead th {\n",
       "        text-align: right;\n",
       "    }\n",
       "</style>\n",
       "<table border=\"1\" class=\"dataframe\">\n",
       "  <thead>\n",
       "    <tr style=\"text-align: right;\">\n",
       "      <th></th>\n",
       "      <th>docs</th>\n",
       "      <th>labels</th>\n",
       "    </tr>\n",
       "  </thead>\n",
       "  <tbody>\n",
       "    <tr>\n",
       "      <th>0</th>\n",
       "      <td>Tiger Teeth – WALK THE MOON</td>\n",
       "      <td>[about_tiger, about_wolf]</td>\n",
       "    </tr>\n",
       "    <tr>\n",
       "      <th>1</th>\n",
       "      <td>Wolf Like Me – TV On The Radio</td>\n",
       "      <td>[about_wolf]</td>\n",
       "    </tr>\n",
       "    <tr>\n",
       "      <th>2</th>\n",
       "      <td>Duck – Zeedym</td>\n",
       "      <td>[about_duck]</td>\n",
       "    </tr>\n",
       "    <tr>\n",
       "      <th>3</th>\n",
       "      <td>Lone Wolf and Cub – Thundercat</td>\n",
       "      <td>[about_tiger, about_wolf]</td>\n",
       "    </tr>\n",
       "  </tbody>\n",
       "</table>\n",
       "</div>"
      ],
      "text/plain": [
       "                             docs                     labels\n",
       "0     Tiger Teeth – WALK THE MOON  [about_tiger, about_wolf]\n",
       "1  Wolf Like Me – TV On The Radio               [about_wolf]\n",
       "2                   Duck – Zeedym               [about_duck]\n",
       "3  Lone Wolf and Cub – Thundercat  [about_tiger, about_wolf]"
      ]
     },
     "execution_count": 15,
     "metadata": {},
     "output_type": "execute_result"
    }
   ],
   "source": [
    "get_response()"
   ]
  },
  {
   "cell_type": "markdown",
   "metadata": {},
   "source": [
    "# Using [ipyannotate](https://github.com/natasha/ipyannotate)"
   ]
  },
  {
   "cell_type": "code",
   "execution_count": 16,
   "metadata": {},
   "outputs": [
    {
     "data": {
      "application/vnd.jupyter.widget-view+json": {
       "model_id": "2f6c414c520b4ede92cfe2eefd27046a",
       "version_major": 2,
       "version_minor": 0
      },
      "text/plain": [
       "Annotation(canvas=OutputCanvas(), progress=Progress(atoms=[<ipyannotate.progress.Atom object at 0x114844978>, …"
      ]
     },
     "metadata": {},
     "output_type": "display_data"
    }
   ],
   "source": [
    "from ipyannotate import annotate\n",
    "from ipyannotate.buttons import ValueButton, NextButton, BackButton\n",
    "\n",
    "buttons = [\n",
    "    ValueButton(\n",
    "        icon=\"🐯\",\n",
    "        value=\"about_tiger\",\n",
    "        shortcut=\"s\"\n",
    "    ),\n",
    "    ValueButton(\n",
    "        icon=\"🐺\",\n",
    "        value=\"about_wolf\",\n",
    "        shortcut=\"w\"\n",
    "    ),\n",
    "    ValueButton(\n",
    "        icon=\"🦆\",\n",
    "        value=\"about_duck\",\n",
    "        shortcut=\"d\"\n",
    "    ),\n",
    "    BackButton(),\n",
    "    NextButton()\n",
    "]\n",
    "annotation = annotate(docs, buttons=buttons)\n",
    "annotation"
   ]
  },
  {
   "cell_type": "code",
   "execution_count": 17,
   "metadata": {},
   "outputs": [
    {
     "data": {
      "text/plain": [
       "[Task(output='Tiger Teeth – WALK THE MOON', value=about_tiger),\n",
       " Task(output='Wolf Like Me – TV On The Radio', value=about_wolf),\n",
       " Task(output='Duck – Zeedym', value=about_duck),\n",
       " Task(output='Lone Wolf and Cub – Thundercat', value=about_wolf)]"
      ]
     },
     "execution_count": 17,
     "metadata": {},
     "output_type": "execute_result"
    }
   ],
   "source": [
    "annotation.tasks"
   ]
  },
  {
   "cell_type": "markdown",
   "metadata": {},
   "source": [
    "> if you need multiple labels per row, pass `multi=True` to `annotate()`. Note that you will need to navigate between samples manually, as previously it was done after label assignment"
   ]
  },
  {
   "cell_type": "code",
   "execution_count": 18,
   "metadata": {},
   "outputs": [
    {
     "data": {
      "application/vnd.jupyter.widget-view+json": {
       "model_id": "654b399c409a4176a12c31bb8c3b6f06",
       "version_major": 2,
       "version_minor": 0
      },
      "text/plain": [
       "Annotation(canvas=OutputCanvas(), progress=Progress(atoms=[<ipyannotate.progress.Atom object at 0x1148e3a20>, …"
      ]
     },
     "metadata": {},
     "output_type": "display_data"
    }
   ],
   "source": [
    "buttons = [\n",
    "    ValueButton(\n",
    "        icon=\"🐯\",\n",
    "        value=\"about_tiger\",\n",
    "        shortcut=\"s\"\n",
    "    ),\n",
    "    ValueButton(\n",
    "        icon=\"🐺\",\n",
    "        value=\"about_wolf\",\n",
    "        shortcut=\"w\"\n",
    "    ),\n",
    "    ValueButton(\n",
    "        icon=\"🦆\",\n",
    "        value=\"about_duck\",\n",
    "        shortcut=\"d\"\n",
    "    ),\n",
    "    BackButton(),\n",
    "    NextButton()\n",
    "]\n",
    "annotation = annotate(docs, buttons=buttons, multi=True)\n",
    "annotation"
   ]
  },
  {
   "cell_type": "code",
   "execution_count": 19,
   "metadata": {},
   "outputs": [
    {
     "data": {
      "text/plain": [
       "[MultiTask(output='Tiger Teeth – WALK THE MOON', value={'about_tiger', 'about_duck'}),\n",
       " MultiTask(output='Wolf Like Me – TV On The Radio', value={'about_wolf'}),\n",
       " MultiTask(output='Duck – Zeedym', value={'about_duck'}),\n",
       " MultiTask(output='Lone Wolf and Cub – Thundercat', value={'about_tiger', 'about_wolf'})]"
      ]
     },
     "execution_count": 19,
     "metadata": {},
     "output_type": "execute_result"
    }
   ],
   "source": [
    "annotation.tasks"
   ]
  }
 ],
 "metadata": {
  "kernelspec": {
   "display_name": "Python 3",
   "language": "python",
   "name": "python3"
  },
  "language_info": {
   "codemirror_mode": {
    "name": "ipython",
    "version": 3
   },
   "file_extension": ".py",
   "mimetype": "text/x-python",
   "name": "python",
   "nbconvert_exporter": "python",
   "pygments_lexer": "ipython3",
   "version": "3.7.2"
  }
 },
 "nbformat": 4,
 "nbformat_minor": 2
}
