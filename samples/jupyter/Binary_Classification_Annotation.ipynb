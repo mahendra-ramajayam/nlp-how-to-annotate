{
 "cells": [
  {
   "cell_type": "code",
   "execution_count": 1,
   "metadata": {},
   "outputs": [],
   "source": [
    "docs = [\n",
    "    'A cat sat on a mat',\n",
    "    'An old wise man once said',\n",
    "    'A quick brown fox jumped over a lazy dog'\n",
    "]"
   ]
  },
  {
   "cell_type": "code",
   "execution_count": 2,
   "metadata": {},
   "outputs": [],
   "source": [
    "classes = ['has_animal', 'has_not_animal']"
   ]
  },
  {
   "cell_type": "markdown",
   "metadata": {},
   "source": [
    "# Use input"
   ]
  },
  {
   "cell_type": "markdown",
   "metadata": {},
   "source": [
    "The most basic way to split things in the batch - show one by one docs with prompt whether item is classes[0] (y) or classes[1] (n) and empty prompt (pressing enter) would assign classes[0]"
   ]
  },
  {
   "cell_type": "code",
   "execution_count": 3,
   "metadata": {},
   "outputs": [],
   "source": [
    "from IPython.display import clear_output"
   ]
  },
  {
   "cell_type": "code",
   "execution_count": 4,
   "metadata": {},
   "outputs": [],
   "source": [
    "def get_label(doc, major_class=classes[0]):\n",
    "    clear_output()\n",
    "    user_input = input(f'Is \"{doc}\" a {classes[0]}? (y/n) or just enter if it\\'s {major_class}')\n",
    "    if user_input.strip() == '':\n",
    "        return major_class\n",
    "    if user_input.strip() == 'y':\n",
    "        return classes[0]\n",
    "    if user_input.strip() == 'n':\n",
    "        return classes[1]\n",
    "    # loop if got something wrong\n",
    "    return get_label(doc, major_class)"
   ]
  },
  {
   "cell_type": "code",
   "execution_count": 5,
   "metadata": {},
   "outputs": [
    {
     "name": "stdout",
     "output_type": "stream",
     "text": [
      "Is \"A quick brown fox jumped over a lazy dog\" a has_animal? (y/n) or just enter if it's has_animaly\n"
     ]
    }
   ],
   "source": [
    "labels = [get_label(doc) for doc in docs]"
   ]
  },
  {
   "cell_type": "code",
   "execution_count": 6,
   "metadata": {},
   "outputs": [
    {
     "data": {
      "text/plain": [
       "['has_animal', 'has_not_animal', 'has_animal']"
      ]
     },
     "execution_count": 6,
     "metadata": {},
     "output_type": "execute_result"
    }
   ],
   "source": [
    "labels"
   ]
  },
  {
   "cell_type": "markdown",
   "metadata": {},
   "source": [
    "# Use ipython widget"
   ]
  },
  {
   "cell_type": "markdown",
   "metadata": {},
   "source": [
    "Have table of docs with checkbox next to it to indicate `True` class"
   ]
  },
  {
   "cell_type": "code",
   "execution_count": null,
   "metadata": {},
   "outputs": [],
   "source": [
    "!pip install ipywidgets"
   ]
  },
  {
   "cell_type": "code",
   "execution_count": 7,
   "metadata": {},
   "outputs": [],
   "source": [
    "import pandas as pd\n",
    "import ipywidgets as widgets\n",
    "import time\n",
    "from IPython.display import display\n",
    "from IPython.display import display_html, clear_output"
   ]
  },
  {
   "cell_type": "code",
   "execution_count": 8,
   "metadata": {},
   "outputs": [],
   "source": [
    "def display_docs(docs):\n",
    "    rows = []\n",
    "    checkboxes = []\n",
    "    for i, doc in enumerate(docs):\n",
    "        label = widgets.Label(doc)\n",
    "        checkbox = widgets.Checkbox(\n",
    "            value=False,\n",
    "            description='has_animal',\n",
    "            disabled=False)\n",
    "        checkboxes.append(checkbox)\n",
    "        row = widgets.HBox([label, checkbox])\n",
    "        row.layout.display = 'flex'\n",
    "        label.layout.flex = '1 0 100px'\n",
    "        checkbox.layout.flex = '0 0 100px'\n",
    "        rows.append(row)\n",
    "    \n",
    "    table = widgets.VBox(rows)\n",
    "    display(table)\n",
    "    \n",
    "    def get_response():\n",
    "        return pd.DataFrame(list(zip(docs, [c.value for c in checkboxes])), columns=['docs', 'has_animal'])\n",
    "    return get_response"
   ]
  },
  {
   "cell_type": "code",
   "execution_count": 9,
   "metadata": {},
   "outputs": [
    {
     "data": {
      "application/vnd.jupyter.widget-view+json": {
       "model_id": "6e46b22cdc524044ae27465c13c9823e",
       "version_major": 2,
       "version_minor": 0
      },
      "text/plain": [
       "VBox(children=(HBox(children=(Label(value='A cat sat on a mat', layout=Layout(flex='1 0 100px')), Checkbox(val…"
      ]
     },
     "metadata": {},
     "output_type": "display_data"
    }
   ],
   "source": [
    "get_response = display_docs(docs)"
   ]
  },
  {
   "cell_type": "code",
   "execution_count": 10,
   "metadata": {},
   "outputs": [
    {
     "data": {
      "text/html": [
       "<div>\n",
       "<style scoped>\n",
       "    .dataframe tbody tr th:only-of-type {\n",
       "        vertical-align: middle;\n",
       "    }\n",
       "\n",
       "    .dataframe tbody tr th {\n",
       "        vertical-align: top;\n",
       "    }\n",
       "\n",
       "    .dataframe thead th {\n",
       "        text-align: right;\n",
       "    }\n",
       "</style>\n",
       "<table border=\"1\" class=\"dataframe\">\n",
       "  <thead>\n",
       "    <tr style=\"text-align: right;\">\n",
       "      <th></th>\n",
       "      <th>docs</th>\n",
       "      <th>has_animal</th>\n",
       "    </tr>\n",
       "  </thead>\n",
       "  <tbody>\n",
       "    <tr>\n",
       "      <th>0</th>\n",
       "      <td>A cat sat on a mat</td>\n",
       "      <td>True</td>\n",
       "    </tr>\n",
       "    <tr>\n",
       "      <th>1</th>\n",
       "      <td>An old wise man once said</td>\n",
       "      <td>False</td>\n",
       "    </tr>\n",
       "    <tr>\n",
       "      <th>2</th>\n",
       "      <td>A quick brown fox jumped over a lazy dog</td>\n",
       "      <td>True</td>\n",
       "    </tr>\n",
       "  </tbody>\n",
       "</table>\n",
       "</div>"
      ],
      "text/plain": [
       "                                       docs  has_animal\n",
       "0                        A cat sat on a mat        True\n",
       "1                 An old wise man once said       False\n",
       "2  A quick brown fox jumped over a lazy dog        True"
      ]
     },
     "execution_count": 10,
     "metadata": {},
     "output_type": "execute_result"
    }
   ],
   "source": [
    "get_response()"
   ]
  },
  {
   "cell_type": "markdown",
   "metadata": {},
   "source": [
    "# Use https://github.com/natasha/ipyannotate"
   ]
  },
  {
   "cell_type": "code",
   "execution_count": null,
   "metadata": {},
   "outputs": [],
   "source": [
    "!pip3 install ipyannotate"
   ]
  },
  {
   "cell_type": "code",
   "execution_count": null,
   "metadata": {},
   "outputs": [],
   "source": [
    "# This one seems to have to be ran with jupyter notebook shut down and starting it up afterwards\n",
    "!jupyter nbextension enable --py --sys-prefix ipyannotate"
   ]
  },
  {
   "cell_type": "code",
   "execution_count": 11,
   "metadata": {},
   "outputs": [
    {
     "data": {
      "application/vnd.jupyter.widget-view+json": {
       "model_id": "7c970a651c0a468ba5b7756d441c4aec",
       "version_major": 2,
       "version_minor": 0
      },
      "text/plain": [
       "Annotation(canvas=OutputCanvas(), progress=Progress(atoms=[<ipyannotate.progress.Atom object at 0x11cf42048>, …"
      ]
     },
     "metadata": {},
     "output_type": "display_data"
    }
   ],
   "source": [
    "from ipyannotate import annotate\n",
    "\n",
    "annotation = annotate(docs)\n",
    "annotation"
   ]
  },
  {
   "cell_type": "code",
   "execution_count": 12,
   "metadata": {},
   "outputs": [
    {
     "name": "stdout",
     "output_type": "stream",
     "text": [
      "labels: [True, False, True]\n"
     ]
    },
    {
     "data": {
      "text/plain": [
       "[('A cat sat on a mat', True),\n",
       " ('An old wise man once said', False),\n",
       " ('A quick brown fox jumped over a lazy dog', True)]"
      ]
     },
     "execution_count": 12,
     "metadata": {},
     "output_type": "execute_result"
    }
   ],
   "source": [
    "labels = [t.value for t in annotation.tasks]\n",
    "print(f'labels: {labels}')\n",
    "list(zip(docs, labels))"
   ]
  }
 ],
 "metadata": {
  "kernelspec": {
   "display_name": "Python 3",
   "language": "python",
   "name": "python3"
  },
  "language_info": {
   "codemirror_mode": {
    "name": "ipython",
    "version": 3
   },
   "file_extension": ".py",
   "mimetype": "text/x-python",
   "name": "python",
   "nbconvert_exporter": "python",
   "pygments_lexer": "ipython3",
   "version": "3.7.2"
  }
 },
 "nbformat": 4,
 "nbformat_minor": 2
}
