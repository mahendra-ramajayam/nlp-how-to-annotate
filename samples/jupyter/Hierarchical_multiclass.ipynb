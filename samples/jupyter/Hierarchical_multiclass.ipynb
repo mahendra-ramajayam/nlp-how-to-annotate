{
 "cells": [
  {
   "cell_type": "code",
   "execution_count": 1,
   "metadata": {},
   "outputs": [],
   "source": [
    "import re\n",
    "import ipywidgets as widgets\n",
    "from IPython.display import display, clear_output"
   ]
  },
  {
   "cell_type": "code",
   "execution_count": 2,
   "metadata": {},
   "outputs": [],
   "source": [
    "# vehicle taxonomy\n",
    "classes_hierarchy = {\n",
    "    \"ground\": {\n",
    "        \"wheels\": [\"truck\", \"van\", \"car\"],\n",
    "        \"track\": {\n",
    "            \"industrial\": [\"bulldozer\", \"combine harvester\"],\n",
    "            \"military\": [\"tank\", \"artillery\"]\n",
    "        }\n",
    "    },\n",
    "    \"water\": [\n",
    "        \"wind-powered\", \"human-powered\", \"engine-powered\"\n",
    "    ],\n",
    "    \"aerial\": [\"engine-powered\", \"other\"]\n",
    "}"
   ]
  },
  {
   "cell_type": "code",
   "execution_count": 3,
   "metadata": {},
   "outputs": [],
   "source": [
    "docs = [\n",
    "    \"vehicle 1\",\n",
    "    \"vehicle 2\",\n",
    "    \"vehicle 3\"\n",
    "]"
   ]
  },
  {
   "cell_type": "code",
   "execution_count": 4,
   "metadata": {},
   "outputs": [
    {
     "data": {
      "application/vnd.jupyter.widget-view+json": {
       "model_id": "5138dc3ba97f40479417fa03adcd2528",
       "version_major": 2,
       "version_minor": 0
      },
      "text/plain": [
       "VBox(children=(HBox(children=(Label(value='vehicle 1'), Dropdown(description='Kind', options=('ground', 'water…"
      ]
     },
     "metadata": {},
     "output_type": "display_data"
    }
   ],
   "source": [
    "def get_labels(docs, hierarchy, level_names=[]):\n",
    "    labels = [[] for doc in docs]\n",
    "\n",
    "\n",
    "    def on_single_change(doc_index, class_level, change):\n",
    "        if change['type'] == 'change' and change['name'] == 'value':\n",
    "            prev_labels = labels[doc_index][:]\n",
    "            new_value = change['new']\n",
    "            if not new_value:\n",
    "                labels[doc_index][:] = prev_labels[:class_level] if class_level > 0 else []\n",
    "            else:\n",
    "                if class_level == 0:\n",
    "                    labels[doc_index][:] = [change['new']]\n",
    "                else:\n",
    "                    labels[doc_index][:] = prev_labels[:class_level] + [new_value]\n",
    "            update_widgets()\n",
    "\n",
    "    def spawn_observer(doc_index, class_level):\n",
    "        def observer(change):\n",
    "            return on_single_change(doc_index, class_level, change)\n",
    "        return observer\n",
    "    \n",
    "    def to_options(item):\n",
    "        return item if type(item) == list else item.keys()\n",
    "    \n",
    "    def update_widgets():\n",
    "        controls = []\n",
    "        for doc_index, doc in enumerate(docs):\n",
    "            doc_labels = labels[doc_index]\n",
    "            doc_controls = []\n",
    "            current_level = hierarchy.copy()\n",
    "            \n",
    "            for class_level, label in enumerate(doc_labels):\n",
    "                options = to_options(current_level)\n",
    "                try:\n",
    "                    control = widgets.Dropdown(\n",
    "                        options=options,\n",
    "                        description=level_names[class_level],\n",
    "                        name=f'{level_names[class_level]}_{doc_index}_{class_level}',\n",
    "                        value=label\n",
    "                    )\n",
    "                except:\n",
    "                    print(class_level, doc_labels, options, label)\n",
    "                control.observe(spawn_observer(doc_index, class_level))\n",
    "                doc_controls.append(control)\n",
    "                current_level = current_level.get(label) if type(current_level) == dict else None\n",
    "            if current_level:\n",
    "                class_level = len(doc_labels)\n",
    "                control = widgets.Dropdown(\n",
    "                    options=['', *to_options(current_level)],\n",
    "                    description=level_names[class_level],\n",
    "                    name=f'{level_names[class_level]}_{doc_index}_{class_level}',\n",
    "                )\n",
    "                control.observe(spawn_observer(doc_index, class_level))\n",
    "                doc_controls.append(control)\n",
    "            \n",
    "            controls.append(doc_controls)\n",
    "\n",
    "        clear_output()\n",
    "        display(widgets.VBox(\n",
    "            [widgets.HBox([widgets.Label(docs[doc_index]), *sub_controls])\n",
    "             for doc_index, sub_controls in enumerate(controls)\n",
    "            ]\n",
    "        ))\n",
    "\n",
    "    update_widgets()\n",
    "    \n",
    "    return list(zip(docs, labels))\n",
    "\n",
    "labels = get_labels(docs, classes_hierarchy, ['Kind', 'Type', 'Subtype', 'Sub-subtype'])"
   ]
  },
  {
   "cell_type": "code",
   "execution_count": 5,
   "metadata": {},
   "outputs": [
    {
     "data": {
      "text/plain": [
       "[('vehicle 1', ['ground', 'wheels', 'van']),\n",
       " ('vehicle 2', ['water', 'human-powered']),\n",
       " ('vehicle 3', ['aerial', 'other'])]"
      ]
     },
     "execution_count": 5,
     "metadata": {},
     "output_type": "execute_result"
    }
   ],
   "source": [
    "labels"
   ]
  }
 ],
 "metadata": {
  "kernelspec": {
   "display_name": "Python 3",
   "language": "python",
   "name": "python3"
  },
  "language_info": {
   "codemirror_mode": {
    "name": "ipython",
    "version": 3
   },
   "file_extension": ".py",
   "mimetype": "text/x-python",
   "name": "python",
   "nbconvert_exporter": "python",
   "pygments_lexer": "ipython3",
   "version": "3.7.2"
  }
 },
 "nbformat": 4,
 "nbformat_minor": 2
}
